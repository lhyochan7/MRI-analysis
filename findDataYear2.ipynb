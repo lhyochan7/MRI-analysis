{
 "cells": [
  {
   "cell_type": "code",
   "execution_count": 1,
   "metadata": {},
   "outputs": [],
   "source": [
    "import numpy as np\n",
    "import pandas as pd\n",
    "from datetime import datetime, timedelta "
   ]
  },
  {
   "cell_type": "code",
   "execution_count": 1,
   "metadata": {},
   "outputs": [],
   "source": [
    "def findMaxMin(date_list):\n",
    "    \n",
    "    max_date = max(date_list)\n",
    "    min_date = min(date_list)\n",
    "    \n",
    "    return max_date, min_date        \n",
    "\n",
    "\n",
    "def dateDiff(min_date, max_date):\n",
    "    min_date = str(min_date)\n",
    "    max_date = str(max_date)\n",
    "    \n",
    "    '''\n",
    "    print(min_date)\n",
    "    print(max_date)\n",
    "    '''\n",
    "    \n",
    "    min_date_yr = int(min_date[:4])\n",
    "    min_date_m = int(min_date[4:6])\n",
    "    min_date_d = int(min_date[6:])\n",
    "    \n",
    "    max_date_yr = int(max_date[:4])\n",
    "    max_date_m = int(max_date[4:6])\n",
    "    max_date_d = int(max_date[6:])\n",
    "    \n",
    "    ''' \n",
    "    print(min_date_yr)\n",
    "    print(min_date_m)\n",
    "    print(min_date_d)\n",
    "    \n",
    "    print(max_date_yr)\n",
    "    print(max_date_m)\n",
    "    print(max_date_d)\n",
    "    '''\n",
    "        \n",
    "    diff = datetime(max_date_yr, max_date_m, max_date_d) - datetime(min_date_yr, min_date_m, min_date_d)\n",
    "    return diff\n",
    "\n",
    "\n",
    "#print(dateDiff('20081113', '20101012'))"
   ]
  },
  {
   "cell_type": "code",
   "execution_count": 20,
   "metadata": {},
   "outputs": [
    {
     "name": "stdout",
     "output_type": "stream",
     "text": [
      "639\n",
      "NC_1yr =  1\n",
      "MCI_1yr =  6\n",
      "AD_1yr =  0\n",
      "NC_1_5yr =  60\n",
      "MCI_1_5yr =  75\n",
      "AD_1_5yr =  37\n",
      "NC_2yr =  53\n",
      "MCI_2yr =  99\n",
      "AD_2yr =  47\n",
      "NC_3yr =  80\n",
      "MCI_3yr =  131\n",
      "AD_3yr =  49\n"
     ]
    }
   ],
   "source": [
    "file = pd.read_csv('fullday2.csv')\n",
    "file = file.set_index('Filename')\n",
    "\n",
    "temp_ID = ''\n",
    "date_list = []\n",
    "\n",
    "count = 1\n",
    "\n",
    "AD_1yr = 0\n",
    "MCI_1yr = 0\n",
    "NC_1yr = 0\n",
    "\n",
    "AD_1_5yr = 0\n",
    "MCI_1_5yr = 0\n",
    "NC_1_5yr = 0\n",
    "\n",
    "AD_2yr = 0\n",
    "MCI_2yr = 0\n",
    "NC_2yr = 0\n",
    "\n",
    "AD_3yr = 0\n",
    "MCI_3yr = 0\n",
    "NC_3yr = 0\n",
    "\n",
    "for filename in file.index:\n",
    "    ID = str(file.loc[filename, 'ID'])\n",
    "    day = str(file.loc[filename, 'day'])   \n",
    "    group = str(file.loc[filename, 'Group'])\n",
    "    \n",
    "    if group == \"MC\":\n",
    "        group = \"MCI\"\n",
    "    \n",
    "    #print(day)\n",
    "    if not ID[0].isdigit():\n",
    "        ID_num = ID.find(\"_\")\n",
    "        ID = ID[ID_num+1:ID_num+11]\n",
    "        day = day[-32:-24]\n",
    "        group = group[-29:-27]\n",
    "        if group == \"CI\":\n",
    "            group = \"MCI\"   \n",
    "\n",
    "    \"\"\" \n",
    "    print(ID)\n",
    "    print(day)\n",
    "    print(group)\n",
    "    \"\"\"\n",
    "    # Find date diff for each subject\n",
    "    if temp_ID == '':\n",
    "        temp_ID = ID\n",
    "        temp_group = group\n",
    "\n",
    "    if temp_ID == ID:\n",
    "        #print(day)\n",
    "        date_list.append(day)\n",
    "    if temp_ID != ID:\n",
    "        count+=1\n",
    "        max_date, min_date = findMaxMin(date_list)\n",
    "        #print('%s / %s = %s' %(temp_ID, group, date_list))\n",
    "        #print('min_date = %s   max_date = %s' %(min_date, max_date))\n",
    "        \n",
    "        diff = dateDiff(min_date, max_date)\n",
    "        #print(diff)\n",
    "        \n",
    "        \n",
    "         # Find 1yr, 2yr for each subject (AD,MCI,NC)\n",
    "        if 0 < diff.days <= 365:\n",
    "            if group == 'CN':\n",
    "                NC_1yr += 1\n",
    "            elif group == 'MCI':\n",
    "                MCI_1yr += 1\n",
    "            elif group == 'AD':\n",
    "                AD_1yr += 1      \n",
    "        elif 365 < diff.days <= 730:\n",
    "            if group == 'CN':\n",
    "                NC_1_5yr += 1\n",
    "            elif group == 'MCI':\n",
    "                MCI_1_5yr += 1\n",
    "            elif group == 'AD':\n",
    "                AD_1_5yr += 1  \n",
    "        elif 730 < diff.days <= 1095:\n",
    "            if group == 'CN':\n",
    "                NC_2yr += 1\n",
    "            elif group == 'MCI':\n",
    "                MCI_2yr += 1\n",
    "            elif group == 'AD':\n",
    "                AD_2yr += 1  \n",
    "        elif 1095 < diff.days:\n",
    "            if group == 'CN':\n",
    "                NC_3yr += 1\n",
    "            elif group == 'MCI':\n",
    "                MCI_3yr += 1\n",
    "            elif group == 'AD':\n",
    "                AD_3yr += 1  \n",
    "        #print(date_list)\n",
    "        #print(\"-------------------------------------------------\")\n",
    "        # reset parameters \n",
    "        date_list = []\n",
    "        date_list.append(day)\n",
    "        temp_ID = ID\n",
    "\n",
    "print(count)\n",
    "print(\"NC_1yr = \", NC_1yr)\n",
    "print(\"MCI_1yr = \", MCI_1yr)\n",
    "print(\"AD_1yr = \", AD_1yr)\n",
    "        \n",
    "print(\"NC_1_5yr = \", NC_1_5yr)\n",
    "print(\"MCI_1_5yr = \", MCI_1_5yr)\n",
    "print(\"AD_1_5yr = \", AD_1_5yr)\n",
    "        \n",
    "print(\"NC_2yr = \", NC_2yr)\n",
    "print(\"MCI_2yr = \", MCI_2yr)\n",
    "print(\"AD_2yr = \", AD_2yr)\n",
    "\n",
    "print(\"NC_3yr = \", NC_3yr)\n",
    "print(\"MCI_3yr = \", MCI_3yr)\n",
    "print(\"AD_3yr = \", AD_3yr)\n"
   ]
  },
  {
   "cell_type": "code",
   "execution_count": 21,
   "metadata": {},
   "outputs": [
    {
     "name": "stdout",
     "output_type": "stream",
     "text": [
      "       NC  MCI  AD\n",
      "0-1yr   1    6   0\n",
      "1-2yr  60   75  37\n",
      "2-3yr  53  100  47\n",
      "3-4yr  80  131  49\n"
     ]
    },
    {
     "data": {
      "text/plain": [
       "'\\nprint(\"NC_1yr = \", NC_1yr)\\nprint(\"MCI_1yr = \", MCI_1yr)\\nprint(\"AD_1yr = \", AD_1yr)\\n        \\nprint(\"NC_1_5yr = \", NC_1_5yr)\\nprint(\"MCI_1_5yr = \", MCI_1_5yr)\\nprint(\"AD_1_5yr = \", AD_1_5yr)\\n        \\nprint(\"NC_2yr = \", NC_2yr)\\nprint(\"MCI_2yr = \", MCI_2yr)\\nprint(\"AD_2yr = \", AD_2yr)\\n'"
      ]
     },
     "execution_count": 21,
     "metadata": {},
     "output_type": "execute_result"
    }
   ],
   "source": [
    "MCI_2yr += 1\n",
    "\n",
    "df = pd.DataFrame(index = ['0-1yr', '1-2yr', '2-3yr', '3-4yr'], columns = ['NC', 'MCI', 'AD'])\n",
    "\n",
    "yr_0 = []\n",
    "yr_1 = []\n",
    "yr_2 = []\n",
    "yr_3 = []\n",
    "\n",
    "yr_0.append(NC_1yr)\n",
    "yr_0.append(MCI_1yr)\n",
    "yr_0.append(AD_1yr)\n",
    "\n",
    "yr_1.append(NC_1_5yr)\n",
    "yr_1.append(MCI_1_5yr)\n",
    "yr_1.append(AD_1_5yr)\n",
    "\n",
    "yr_2.append(NC_2yr)\n",
    "yr_2.append(MCI_2yr)\n",
    "yr_2.append(AD_2yr)\n",
    "\n",
    "yr_3.append(NC_3yr)\n",
    "yr_3.append(MCI_3yr)\n",
    "yr_3.append(AD_3yr)\n",
    "\n",
    "df.loc['0-1yr'] = yr_0\n",
    "df.loc['1-2yr'] = yr_1\n",
    "df.loc['2-3yr'] = yr_2\n",
    "df.loc['3-4yr'] = yr_3\n",
    "\n",
    "\n",
    "print(df)\n",
    "\n",
    "\n",
    "'''\n",
    "print(\"NC_1yr = \", NC_1yr)\n",
    "print(\"MCI_1yr = \", MCI_1yr)\n",
    "print(\"AD_1yr = \", AD_1yr)\n",
    "        \n",
    "print(\"NC_1_5yr = \", NC_1_5yr)\n",
    "print(\"MCI_1_5yr = \", MCI_1_5yr)\n",
    "print(\"AD_1_5yr = \", AD_1_5yr)\n",
    "        \n",
    "print(\"NC_2yr = \", NC_2yr)\n",
    "print(\"MCI_2yr = \", MCI_2yr)\n",
    "print(\"AD_2yr = \", AD_2yr)\n",
    "'''"
   ]
  },
  {
   "cell_type": "code",
   "execution_count": 22,
   "metadata": {},
   "outputs": [
    {
     "data": {
      "text/plain": [
       "<matplotlib.axes._subplots.AxesSubplot at 0x1d9533db5b0>"
      ]
     },
     "execution_count": 22,
     "metadata": {},
     "output_type": "execute_result"
    },
    {
     "data": {
      "image/png": "[encoded data removed]",
      "text/plain": [
       "<Figure size 432x288 with 1 Axes>"
      ]
     },
     "metadata": {
      "needs_background": "light"
     },
     "output_type": "display_data"
    }
   ],
   "source": [
    "df.plot.bar(rot=0)"
   ]
  }
 ],
 "metadata": {
  "kernelspec": {
   "display_name": "Python 3",
   "language": "python",
   "name": "python3"
  },
  "language_info": {
   "codemirror_mode": {
    "name": "ipython",
    "version": 3
   },
   "file_extension": ".py",
   "mimetype": "text/x-python",
   "name": "python",
   "nbconvert_exporter": "python",
   "pygments_lexer": "ipython3",
   "version": "3.8.3"
  }
 },
 "nbformat": 4,
 "nbformat_minor": 4
}
