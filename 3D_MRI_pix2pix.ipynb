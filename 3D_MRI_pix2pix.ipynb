{
  "nbformat": 4,
  "nbformat_minor": 0,
  "metadata": {
    "colab": {
      "name": "3D_MRI_pix2pix.ipynb",
      "provenance": [],
      "collapsed_sections": [],
      "mount_file_id": "1TnxALKq_TVhSD4AKXpVCrNp9Wfwdopap",
      "authorship_tag": "ABX9TyNvtW2uZbR/yJxZCVPTBbZL",
      "include_colab_link": true
    },
    "kernelspec": {
      "name": "python3",
      "display_name": "Python 3"
    },
    "language_info": {
      "name": "python"
    },
    "accelerator": "GPU"
  },
  "cells": [
    {
      "cell_type": "markdown",
      "metadata": {
        "id": "view-in-github",
        "colab_type": "text"
      },
      "source": [
        "<a href=\"https://colab.research.google.com/github/lhyochan7/MRI-analysis/blob/main/3D_MRI_pix2pix.ipynb\" target=\"_parent\"><img src=\"https://colab.research.google.com/assets/colab-badge.svg\" alt=\"Open In Colab\"/></a>"
      ]
    },
    {
      "cell_type": "code",
      "metadata": {
        "colab": {
          "base_uri": "https://localhost:8080/"
        },
        "id": "ALUOmu-UHfO2",
        "outputId": "e10b69f0-fb02-4ff4-95d3-5466fafc7e9e"
      },
      "source": [
        "!pip install patchify\n",
        "import nibabel as nib\n",
        "import tensorflow as tf\n",
        "from patchify import patchify, unpatchify\n",
        "from matplotlib import pyplot as plt\n",
        "import numpy as np\n",
        "\n",
        "from numpy import load\n",
        "from numpy import zeros\n",
        "from numpy import ones\n",
        "from numpy.random import randint\n",
        "from keras.optimizers import Adam\n",
        "from keras.initializers import RandomNormal\n",
        "from keras.models import Model\n",
        "from keras.models import Input\n",
        "from keras.layers import Conv3D\n",
        "from keras.layers import Conv3DTranspose\n",
        "from keras.layers import LeakyReLU\n",
        "from keras.layers import Activation\n",
        "from keras.layers import Concatenate\n",
        "from keras.layers import Dropout\n",
        "from keras.layers import BatchNormalization\n",
        "from keras.layers import LeakyReLU\n",
        "from matplotlib import pyplot\n"
      ],
      "execution_count": 27,
      "outputs": [
        {
          "output_type": "stream",
          "text": [
            "Requirement already satisfied: patchify in /usr/local/lib/python3.7/dist-packages (0.2.3)\n",
            "Requirement already satisfied: numpy<2,>=1 in /usr/local/lib/python3.7/dist-packages (from patchify) (1.19.5)\n"
          ],
          "name": "stdout"
        }
      ]
    },
    {
      "cell_type": "code",
      "metadata": {
        "id": "7Hx91zXEPbDl"
      },
      "source": [
        "import matplotlib.pyplot as plt\n",
        "from matplotlib.patches import Circle, PathPatch\n",
        "from mpl_toolkits.mplot3d import Axes3D \n",
        "import mpl_toolkits.mplot3d.art3d as art3d"
      ],
      "execution_count": 28,
      "outputs": []
    },
    {
      "cell_type": "code",
      "metadata": {
        "id": "gQtfdMzWHhtk"
      },
      "source": [
        "t1_img = nib.load(\"/content/drive/MyDrive/data/2012_MNI.nii.gz\")\n",
        "t2_img = nib.load(\"/content/drive/MyDrive/data/2015_MNI.nii.gz\")"
      ],
      "execution_count": 29,
      "outputs": []
    },
    {
      "cell_type": "code",
      "metadata": {
        "colab": {
          "base_uri": "https://localhost:8080/"
        },
        "id": "COlyjtr8H8Kt",
        "outputId": "7f118207-910d-4718-d402-7e660802d91c"
      },
      "source": [
        "t1_data = t1_img.get_fdata()\n",
        "t2_data = t2_img.get_fdata()\n",
        "\n",
        "comb_data = np.concatenate((t1_data,t2_data))\n",
        "print(t1_data.dtype)\n",
        "print(t1_data.shape)\n",
        "\n",
        "print(comb_data.shape)"
      ],
      "execution_count": 30,
      "outputs": [
        {
          "output_type": "stream",
          "text": [
            "float64\n",
            "(182, 218, 182)\n",
            "(364, 218, 182)\n"
          ],
          "name": "stdout"
        }
      ]
    },
    {
      "cell_type": "code",
      "metadata": {
        "id": "aj6AChbzIW2l"
      },
      "source": [
        "src_patches = patchify(t1_data, (64,64,64), step = 32)\n",
        "target_patches = patchify(t2_data, (64,64,64), step = 32)"
      ],
      "execution_count": 31,
      "outputs": []
    },
    {
      "cell_type": "code",
      "metadata": {
        "colab": {
          "base_uri": "https://localhost:8080/",
          "height": 346
        },
        "id": "5fySZMDTJ4sl",
        "outputId": "5c4f3139-7ba2-4329-9010-e830b36908d3"
      },
      "source": [
        "fig = plt.figure(figsize=(10,10))\n",
        "ax1 = fig.add_subplot(2,2,1)\n",
        "ax1.set_title('Base-Level')\n",
        "ax1.imshow(src_patches[1,2,3,:,:,13])\n",
        "\n",
        "\n",
        "ax2 = fig.add_subplot(2,2,2)\n",
        "ax2.set_title('3 year')\n",
        "ax2.imshow(target_patches[1,2,3,:,:,13])\n",
        "\n",
        "\n",
        "# combine vectors 4 x 5 x 4 to 80 patches\n",
        "input_img = np.reshape(src_patches, (-1, src_patches.shape[3], src_patches.shape[4], src_patches.shape[5], 1)) # n_patches, x, y, z\n",
        "\n",
        "# convert numpy to tensor\n",
        "input_img = tf.convert_to_tensor(input_img, np.float32)\n",
        "print(input_img.shape)\n",
        "print(input_img.dtype)"
      ],
      "execution_count": 32,
      "outputs": [
        {
          "output_type": "stream",
          "text": [
            "(80, 64, 64, 64, 1)\n",
            "<dtype: 'float32'>\n"
          ],
          "name": "stdout"
        },
        {
          "output_type": "display_data",
          "data": {
            "image/png": "[encoded data removed]",
            "text/plain": [
              "<Figure size 720x720 with 2 Axes>"
            ]
          },
          "metadata": {
            "tags": [],
            "needs_background": "light"
          }
        }
      ]
    },
    {
      "cell_type": "code",
      "metadata": {
        "colab": {
          "base_uri": "https://localhost:8080/"
        },
        "id": "LbXgF-qWBzRZ",
        "outputId": "ef7ee34a-c039-47ea-9782-51a60555d62d"
      },
      "source": [
        "# define the discriminator model\n",
        "def define_discriminator(image_shape):\n",
        "\t# weight initialization\n",
        "\tinit = RandomNormal(stddev=0.02)\n",
        "\t# source image input\n",
        "\tin_src_image = Input(shape=image_shape)\n",
        "\t# target image input\n",
        "\tin_target_image = Input(shape=image_shape)\n",
        "\t# concatenate images channel-wise\n",
        "\tmerged = Concatenate()([in_src_image, in_target_image])\n",
        "\t# C64\n",
        "\td = Conv3D(64, (3,3,3), strides=(2,2,2), padding='same', kernel_initializer=init)(merged)\n",
        "\td = LeakyReLU(alpha=0.2)(d)\n",
        "\t# C128\n",
        "\td = Conv3D(128, (3,3,3), strides=(2,2,2), padding='same', kernel_initializer=init)(d)\n",
        "\td = BatchNormalization()(d)\n",
        "\td = LeakyReLU(alpha=0.2)(d)\n",
        "\t# C256\n",
        "\td = Conv3D(256, (3,3,3), strides=(2,2,2), padding='same', kernel_initializer=init)(d)\n",
        "\td = BatchNormalization()(d)\n",
        "\td = LeakyReLU(alpha=0.2)(d)\n",
        "\t# C512\n",
        "\td = Conv3D(512, (3,3,3), strides=(2,2,2), padding='same', kernel_initializer=init)(d)\n",
        "\td = BatchNormalization()(d)\n",
        "\td = LeakyReLU(alpha=0.2)(d)\n",
        "  \n",
        "\t# second last output layer\n",
        "\td = Conv3D(512, (3,3,3), padding='same', kernel_initializer=init)(d)\n",
        "\td = BatchNormalization()(d)\n",
        "\td = LeakyReLU(alpha=0.2)(d)\n",
        "\t# patch output\n",
        "\td = Conv3D(1, (3,3,3), padding='same', kernel_initializer=init)(d)\n",
        "\tpatch_out = Activation('sigmoid')(d)\n",
        "\t# define model\n",
        "\tmodel = Model([in_src_image, in_target_image], patch_out)\n",
        "\t# compile model\n",
        "\topt = Adam(lr=0.0002, beta_1=0.5)\n",
        "\tmodel.compile(loss='binary_crossentropy', optimizer=opt, loss_weights=[0.5])\n",
        "\treturn model\n",
        "\n",
        "# define an encoder block\n",
        "def define_encoder_block(layer_in, n_filters, batchnorm=True):\n",
        "\t# weight initialization\n",
        "\tinit = RandomNormal(stddev=0.02)\n",
        "\t# add downsampling layer\n",
        "\tg = Conv3D(n_filters, (3,3,3), strides=(2,2,2), padding='same', kernel_initializer=init)(layer_in)\n",
        "\t# conditionally add batch normalization\n",
        "\tif batchnorm:\n",
        "\t\tg = BatchNormalization()(g, training=True)\n",
        "\t# leaky relu activation\n",
        "\tg = LeakyReLU(alpha=0.2)(g)\n",
        "\treturn g\n",
        " \n",
        "# define a decoder block\n",
        "def decoder_block(layer_in, skip_in, n_filters, dropout=True):\n",
        "\t# weight initialization\n",
        "\tinit = RandomNormal(stddev=0.02)\n",
        "\t# add upsampling layer\n",
        "\tg = Conv3DTranspose(n_filters, (3,3,3), strides=(2,2,2), padding='same', kernel_initializer=init)(layer_in)\n",
        "\t# add batch normalization\n",
        "\tg = BatchNormalization()(g, training=True)\n",
        "\t# conditionally add dropout\n",
        "\tif dropout:\n",
        "\t\tg = Dropout(0.5)(g, training=True)\n",
        "\t# merge with skip connection\n",
        "\tg = Concatenate()([g, skip_in])\n",
        "\t# relu activation\n",
        "\tg = Activation('relu')(g)\n",
        "\treturn g\n",
        " \n",
        "# define the standalone generator model\n",
        "def define_generator(image_shape):\n",
        "\t# weight initialization\n",
        "\tinit = RandomNormal(stddev=0.02)\n",
        "\t# image input\n",
        "  #image_shape = tf.convert_to_tensor(image_shape, np.float32)\n",
        "\tin_image = Input(shape=image_shape)\n",
        "\t# encoder model\n",
        "\te1 = define_encoder_block(in_image, 64, batchnorm=False)\n",
        "\te2 = define_encoder_block(e1, 128)\n",
        "\te3 = define_encoder_block(e2, 256)\n",
        "\te4 = define_encoder_block(e3, 512)\n",
        "\te5 = define_encoder_block(e4, 512)\n",
        "\t\n",
        "\t# bottleneck, no batch norm and relu\n",
        "\tb = Conv3D(512, (4,4,4), strides=(2,2,2), padding='same', kernel_initializer=init)(e5)\n",
        "\tb = Activation('relu')(b)\n",
        "\t# decoder model\n",
        "\td1 = decoder_block(b, e5, 512)\n",
        "\td2 = decoder_block(d1, e4, 512)\n",
        "\td3 = decoder_block(d2, e3, 256)\n",
        "\td4 = decoder_block(d3, e2, 128, dropout=False)\n",
        "\td5 = decoder_block(d4, e1, 64, dropout=False)\n",
        "\n",
        "\t# output\n",
        "\tg = Conv3DTranspose(1, (3,3,3), strides=(2,2,2), padding='same', kernel_initializer=init)(d5)\n",
        "\tout_image = Activation('tanh')(g)\n",
        "\t# define model\n",
        "\tmodel = Model(in_image, out_image)\n",
        "\treturn model\n",
        " \n",
        "# define the combined generator and discriminator model, for updating the generator\n",
        "def define_gan(g_model, d_model, image_shape):\n",
        "\t# make weights in the discriminator not trainable\n",
        "\tfor layer in d_model.layers:\n",
        "\t\tif not isinstance(layer, BatchNormalization):\n",
        "\t\t\tlayer.trainable = False\n",
        "\t# define the source image\n",
        "\tin_src = Input(shape=image_shape)\n",
        "\t# connect the source image to the generator input\n",
        "\tgen_out = g_model(in_src)\n",
        "\t# connect the source input and generator output to the discriminator input\n",
        "\tdis_out = d_model([in_src, gen_out])\n",
        "\t# src image as input, generated image and classification output\n",
        "\tmodel = Model(in_src, [dis_out, gen_out])\n",
        "\t# compile model\n",
        "\topt = Adam(lr=0.0002, beta_1=0.5)\n",
        "\tmodel.compile(loss=['binary_crossentropy', 'mae'], optimizer=opt, loss_weights=[1,100])\n",
        "\treturn model\n",
        "\n",
        "\n",
        "g_model = define_generator((input_img.shape[1:]))\n",
        "tf.keras.utils.plot_model(g_model, show_shapes=True, show_layer_names=True)\n",
        "\n",
        "d_model = define_discriminator((input_img.shape[1:]))\n",
        "tf.keras.utils.plot_model(d_model, show_shapes=True, show_layer_names=True)\n",
        "\n",
        "gan_model = define_gan(g_model, d_model, input_img.shape[1:])\n",
        "tf.keras.utils.plot_model(gan_model, show_shapes=True, show_layer_names=True)\n",
        "gan_model.summary()\n",
        "\n"
      ],
      "execution_count": 33,
      "outputs": [
        {
          "output_type": "stream",
          "text": [
            "/usr/local/lib/python3.7/dist-packages/tensorflow/python/keras/optimizer_v2/optimizer_v2.py:375: UserWarning: The `lr` argument is deprecated, use `learning_rate` instead.\n",
            "  \"The `lr` argument is deprecated, use `learning_rate` instead.\")\n"
          ],
          "name": "stderr"
        },
        {
          "output_type": "stream",
          "text": [
            "Model: \"model_10\"\n",
            "__________________________________________________________________________________________________\n",
            "Layer (type)                    Output Shape         Param #     Connected to                     \n",
            "==================================================================================================\n",
            "input_15 (InputLayer)           [(None, 64, 64, 64,  0                                            \n",
            "__________________________________________________________________________________________________\n",
            "model_8 (Functional)            (None, 64, 64, 64, 1 59043521    input_15[0][0]                   \n",
            "__________________________________________________________________________________________________\n",
            "model_9 (Functional)            (None, 4, 4, 4, 1)   11747137    input_15[0][0]                   \n",
            "                                                                 model_8[0][0]                    \n",
            "==================================================================================================\n",
            "Total params: 70,790,658\n",
            "Trainable params: 59,040,577\n",
            "Non-trainable params: 11,750,081\n",
            "__________________________________________________________________________________________________\n"
          ],
          "name": "stdout"
        }
      ]
    },
    {
      "cell_type": "code",
      "metadata": {
        "id": "G7IV4RaG9ehD"
      },
      "source": [
        "# select a batch of random samples, returns images and target\n",
        "def generate_real_samples(dataset, n_samples, patch_shape):\n",
        "\t# unpack dataset\n",
        "\ttrainA, trainB = dataset\n",
        "\t# choose random instances\n",
        "\tix = randint(0, trainA.shape[0], n_samples)\n",
        "\t# retrieve selected images\n",
        "\tX1, X2 = trainA[ix], trainB[ix]\n",
        "\t# generate 'real' class labels (1)\n",
        "\ty = ones((n_samples, patch_shape, patch_shape, 1))\n",
        "\treturn [X1, X2], y  # random pair of images with label class=1 to indicate real\n",
        "\n",
        "# generate a batch of images, returns images and targets\n",
        "def generate_fake_samples(g_model, samples, patch_shape):\n",
        "\t# generate fake instance\n",
        "\tX = g_model.predict(samples)\n",
        "\t# create 'fake' class labels (0)\n",
        "\ty = zeros((len(X), patch_shape, patch_shape, 1))\n",
        "\treturn X, y   # generator output with label class=0 to indicate fake\n",
        "\n",
        "def train(d_model, g_model, gan_model, dataset, n_epochs=100, n_batch=1, n_patch=16):\n",
        "\t# unpack dataset\n",
        "\ttrainA, trainB = dataset\n",
        "\t# calculate the number of batches per training epoch\n",
        "\tbat_per_epo = int(len(trainA) / n_batch)\n",
        "\t# calculate the number of training iterations\n",
        "\tn_steps = bat_per_epo * n_epochs\n",
        "\t# manually enumerate epochs\n",
        "\tfor i in range(n_steps):\n",
        "\t\t# select a batch of real samples\n",
        "\t\t[X_realA, X_realB], y_real = generate_real_samples(dataset, n_batch, n_patch)\n",
        "\t\t# generate a batch of fake samples\n",
        "\t\tX_fakeB, y_fake = generate_fake_samples(g_model, X_realA, n_patch)\n",
        "\t\t# update discriminator for real samples\n",
        "\t\td_loss1 = d_model.train_on_batch([X_realA, X_realB], y_real)\n",
        "\t\t# update discriminator for generated samples\n",
        "\t\td_loss2 = d_model.train_on_batch([X_realA, X_fakeB], y_fake)\n",
        "\t\t# update the generator\n",
        "\t\tg_loss, _, _ = gan_model.train_on_batch(X_realA, [y_real, X_realB])\n",
        "\t\t# summarize performance\n",
        "\t\tprint('>%d, d1[%.3f] d2[%.3f] g[%.3f]' % (i+1, d_loss1, d_loss2, g_loss))\n",
        "  \n",
        "\n",
        "\n",
        "#train(d_model, g_model, gan_model, input_img)"
      ],
      "execution_count": null,
      "outputs": []
    },
    {
      "cell_type": "code",
      "metadata": {
        "id": "LMDHqHGjGZCT"
      },
      "source": [
        "print(src_patches.shape)\n",
        "\n",
        "g_model = define_generator((input_img.shape[1:]))\n",
        "d_model = define_discriminator((input_img.shape[1:]))\n",
        "\n",
        "predicted_patches = []\n",
        "for i in range(src_patches.shape[0]):\n",
        "  for j in range(src_patches.shape[1]):\n",
        "    for k in range(src_patches.shape[2]):\n",
        "      #print(i,j,k)\n",
        "      #real_patch = target_patches[i,j,k,:,:,:]  # (64,64,64)\n",
        "      single_patch = src_patches[i,j,k, :,:,:]  # (64, 64, 64)\n",
        "      #real_patch = np.reshape(real_patch, (-1, real_patch.shape[0], real_patch.shape[1], real_patch.shape[2], 1))\n",
        "\n",
        "      single_patch = np.reshape(single_patch, (-1, single_patch.shape[0], single_patch.shape[1], single_patch.shape[2], 1))\n",
        "      single_patch_pred = g_model.predict(single_patch)\n",
        "      single_patch_pred_argmax = np.argmax(single_patch_pred, axis=4)[0,:,:,:]\n",
        "      predicted_patches.append(single_patch_pred)\n",
        "\n",
        "\n",
        "predicted_patches = np.array(predicted_patches)\n",
        "print(predicted_patches.shape)\n",
        "predicted_patches_reshaped = np.reshape(predicted_patches, \n",
        "                                        (src_patches.shape[0], src_patches.shape[1], src_patches.shape[2],\n",
        "                                         src_patches.shape[3], src_patches.shape[4], src_patches.shape[5]) )\n",
        "print(predicted_patches_reshaped.shape)"
      ],
      "execution_count": null,
      "outputs": []
    },
    {
      "cell_type": "code",
      "metadata": {
        "id": "lOqG3B27N0Q9"
      },
      "source": [
        "fig = plt.figure(figsize=(10,10))\n",
        "ax1 = fig.add_subplot(2,2,1)\n",
        "ax1.set_title('Original')\n",
        "ax1.imshow(src_patches[1,2,3,:,:,50])\n",
        "\n",
        "\n",
        "ax2 = fig.add_subplot(2,2,2)\n",
        "ax2.set_title('Predicted')\n",
        "ax2.imshow(predicted_patches_reshaped[1,2,3,:,:,50])"
      ],
      "execution_count": null,
      "outputs": []
    },
    {
      "cell_type": "code",
      "metadata": {
        "id": "Dyhwq7veShDE"
      },
      "source": [
        "reconstructed_image = unpatchify(predicted_patches_reshaped, t1_img.shape)\n",
        "print(reconstructed_image.shape)\n",
        "\n",
        "#print(reconstructed_image)\n",
        "\n",
        "# to save this 3D (ndarry) numpy use this\n",
        "#ni_img = nib.Nifti1Image(reconstructed_image, func.affine)\n",
        "\n",
        "#nib.save(ni_img, 'output.nii.gz')"
      ],
      "execution_count": null,
      "outputs": []
    }
  ]
}